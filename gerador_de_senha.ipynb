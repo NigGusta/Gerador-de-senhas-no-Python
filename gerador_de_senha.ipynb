{
  "nbformat": 4,
  "nbformat_minor": 0,
  "metadata": {
    "colab": {
      "provenance": []
    },
    "kernelspec": {
      "name": "python3",
      "display_name": "Python 3"
    },
    "language_info": {
      "name": "python"
    }
  },
  "cells": [
    {
      "cell_type": "code",
      "source": [
        "#importando as bibliotecas necessarias\n",
        "import random\n",
        "import string"
      ],
      "metadata": {
        "id": "rfokAYtMSI_K"
      },
      "execution_count": 6,
      "outputs": []
    },
    {
      "cell_type": "code",
      "execution_count": 5,
      "metadata": {
        "id": "Y7HYnp8VRHuM"
      },
      "outputs": [],
      "source": [
        "#criando função para gerar senhas\n",
        "def password_generator(tam_senha = 8):\n",
        "\n",
        "  #criando variavel com caracteres especiais\n",
        "  punt_options = string.punctuation\n",
        "  #criando variavel com numeros de 0 a 9\n",
        "  number_options = string.digits\n",
        "  #criando variavel com alfabeto minusculo e maiusculo\n",
        "  ascii_options = string.ascii_letters\n",
        "  \n",
        "  \n",
        "  #gerando variavel com letras, numero e caracteres especiais\n",
        "  options = punt_options + number_options + ascii_options\n",
        "\n",
        "  #criando uma string vazia\n",
        "  password_user = \"\"\n",
        "\n",
        "  # criando um laço para gerar a senha aleatoriamente\n",
        "  for i in range(0,tam_senha):\n",
        "    digit = random.choice(options)\n",
        "    password_user = password_user + digit\n",
        "\n",
        "  #retornando a senha gerada para o usuário\n",
        "  return password_user"
      ]
    },
    {
      "cell_type": "code",
      "source": [
        "#entrada de quantos digitos o usuário quer que seja a senha\n",
        "choice_user = input(\"Quantos digitos na senha?\")\n",
        "\n",
        "#verificando se o usuario digitou um número ou nao\n",
        "if choice_user.isdigit():\n",
        "  choice_user = int(choice_user)\n",
        "\n",
        "else:\n",
        "  print(\"Entrada Inválida!\")\n",
        "  quit()\n",
        "\n",
        "#chamando a função dentro de uma variavel e apresentando a senha gerada\n",
        "response = password_generator(choice_user)\n",
        "print('A senha gerada foi a: %s \\n'%(response))"
      ],
      "metadata": {
        "id": "2uSdebCpVy18"
      },
      "execution_count": null,
      "outputs": []
    }
  ]
}